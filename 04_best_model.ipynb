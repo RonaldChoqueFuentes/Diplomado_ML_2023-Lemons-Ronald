{
  "cells": [
    {
      "cell_type": "markdown",
      "metadata": {
        "nteract": {
          "transient": {
            "deleting": false
          }
        }
      },
      "source": [
        "get best model of the job and compared the best two"
      ]
    },
    {
      "cell_type": "code",
      "execution_count": 1,
      "metadata": {
        "gather": {
          "logged": 1701269732794
        },
        "jupyter": {
          "outputs_hidden": false,
          "source_hidden": false
        },
        "nteract": {
          "transient": {
            "deleting": false
          }
        }
      },
      "outputs": [],
      "source": [
        "job_name = 'sweet_bell_qc73gvv9m6'"
      ]
    },
    {
      "cell_type": "code",
      "execution_count": 2,
      "metadata": {
        "gather": {
          "logged": 1701269740792
        }
      },
      "outputs": [
        {
          "name": "stderr",
          "output_type": "stream",
          "text": [
            "Found the config file in: /config.json\n"
          ]
        }
      ],
      "source": [
        "import os\n",
        "import urllib\n",
        "from IPython.display import Image\n",
        "from zipfile import ZipFile\n",
        "from azure.ai.ml.entities import AmlCompute\n",
        "from azure.core.exceptions import ResourceNotFoundError\n",
        "\n",
        "from azure.ai.ml.constants import AssetTypes, InputOutputModes\n",
        "from azure.ai.ml import Input\n",
        "\n",
        "from azure.ai.ml import MLClient\n",
        "from azure.ai.ml import automl\n",
        "from azure.identity import DefaultAzureCredential\n",
        "\n",
        "from azure.ai.ml.entities import Data\n",
        "from azure.ai.ml.constants import AssetTypes, InputOutputModes\n",
        "from azure.ai.ml import Input\n",
        "\n",
        "from PIL import Image\n",
        "import jsonlines\n",
        "\n",
        "import json\n",
        "import mlflow\n",
        "from mlflow.tracking.client import MlflowClient\n",
        "\n",
        "def get_azure_credential(subscription_id, resource_group, workspace):\n",
        "    credential = DefaultAzureCredential()\n",
        "    ml_client = MLClient.from_config(credential)\n",
        "    ml_client =  MLClient(credential, subscription_id, resource_group, workspace)\n",
        "    return ml_client\n",
        "\n",
        "ml_client = get_azure_credential(\"\",\"\",\"\")\n",
        "\n"
      ]
    },
    {
      "cell_type": "code",
      "execution_count": 3,
      "metadata": {
        "gather": {
          "logged": 1701269745111
        },
        "jupyter": {
          "outputs_hidden": false,
          "source_hidden": false
        },
        "nteract": {
          "transient": {
            "deleting": false
          }
        }
      },
      "outputs": [
        {
          "name": "stdout",
          "output_type": "stream",
          "text": [
            "azureml://westus.api.azureml.ms/mlflow/v1.0/subscriptions/46169265-43c5-42f4-b171-b27bdd8e5afa/resourceGroups/rchoque/providers/Microsoft.MachineLearningServices/workspaces/ws_ml_rcf\n"
          ]
        }
      ],
      "source": [
        "\n",
        "MLFLOW_TRACKING_URI = ml_client.workspaces.get(name=ml_client.workspace_name).mlflow_tracking_uri\n",
        "print(MLFLOW_TRACKING_URI)"
      ]
    },
    {
      "cell_type": "code",
      "execution_count": 4,
      "metadata": {
        "gather": {
          "logged": 1701269750171
        },
        "jupyter": {
          "outputs_hidden": false,
          "source_hidden": false
        },
        "nteract": {
          "transient": {
            "deleting": false
          }
        }
      },
      "outputs": [],
      "source": [
        "\n",
        "\n",
        "mlflow_client = MlflowClient()"
      ]
    },
    {
      "cell_type": "code",
      "execution_count": 5,
      "metadata": {
        "gather": {
          "logged": 1701269753694
        },
        "jupyter": {
          "outputs_hidden": false,
          "source_hidden": false
        },
        "nteract": {
          "transient": {
            "deleting": false
          }
        }
      },
      "outputs": [
        {
          "name": "stdout",
          "output_type": "stream",
          "text": [
            "<Run: data=<RunData: metrics={'AUC_macro': 1.0,\n",
            " 'AUC_micro': 1.0,\n",
            " 'AUC_weighted': 1.0,\n",
            " 'accuracy': 1.0,\n",
            " 'accuracy_train': 0.98961,\n",
            " 'average_precision_score_macro': 1.0,\n",
            " 'average_precision_score_micro': 1.0,\n",
            " 'average_precision_score_weighted': 1.0,\n",
            " 'f1_score_macro': 1.0,\n",
            " 'f1_score_micro': 1.0,\n",
            " 'f1_score_weighted': 1.0,\n",
            " 'log_loss': 0.00255,\n",
            " 'log_loss_train': 0.02697,\n",
            " 'precision_score_macro': 1.0,\n",
            " 'precision_score_micro': 1.0,\n",
            " 'precision_score_weighted': 1.0,\n",
            " 'recall_score_macro': 1.0,\n",
            " 'recall_score_micro': 1.0,\n",
            " 'recall_score_weighted': 1.0}, params={}, tags={'automl_best_child_run_id': 'sweet_bell_qc73gvv9m6_HD_3',\n",
            " 'exp-name': 'Job for image classification with lemon objetcs',\n",
            " 'fit_time_000': 'NaN',\n",
            " 'is_gpu': 'True',\n",
            " 'iteration_000': '0',\n",
            " 'mlflow.rootRunId': 'sweet_bell_qc73gvv9m6',\n",
            " 'mlflow.runName': 'sweet_bell_qc73gvv9m6',\n",
            " 'mlflow.user': 'Ronald Choque',\n",
            " 'model_explain_run': 'best_run',\n",
            " 'pipeline_id_000': 'UnkownPipelineId',\n",
            " 'predicted_cost_000': '0',\n",
            " 'run_algorithm_000': '',\n",
            " 'run_preprocessor_000': '',\n",
            " 'score_000': '1',\n",
            " 'training_percent_000': '0'}>, info=<RunInfo: artifact_uri='azureml://westus.api.azureml.ms/mlflow/v2.0/subscriptions/46169265-43c5-42f4-b171-b27bdd8e5afa/resourceGroups/rchoque/providers/Microsoft.MachineLearningServices/workspaces/ws_ml_rcf/experiments/c121284a-ee2f-46a8-9918-a2c6d89cb30e/runs/sweet_bell_qc73gvv9m6/artifacts', end_time=1701269458063, experiment_id='c121284a-ee2f-46a8-9918-a2c6d89cb30e', lifecycle_stage='active', run_id='sweet_bell_qc73gvv9m6', run_name='sweet_bell_qc73gvv9m6', run_uuid='sweet_bell_qc73gvv9m6', start_time=1701267887255, status='FINISHED', user_id='b677c590-9813-4008-9578-ce85e2a6681f'>, inputs=<RunInputs: dataset_inputs=[]>>\n"
          ]
        }
      ],
      "source": [
        "mlflow_parent_run =  mlflow_client.get_run(job_name)\n",
        "print(mlflow_parent_run)"
      ]
    },
    {
      "cell_type": "code",
      "execution_count": 6,
      "metadata": {
        "gather": {
          "logged": 1701269768766
        },
        "jupyter": {
          "outputs_hidden": false,
          "source_hidden": false
        },
        "nteract": {
          "transient": {
            "deleting": false
          }
        }
      },
      "outputs": [
        {
          "name": "stdout",
          "output_type": "stream",
          "text": [
            "sweet_bell_qc73gvv9m6_HD_3\n"
          ]
        }
      ],
      "source": [
        "print(mlflow_parent_run.data.tags['automl_best_child_run_id'])"
      ]
    },
    {
      "cell_type": "code",
      "execution_count": 7,
      "metadata": {
        "gather": {
          "logged": 1701269786117
        },
        "jupyter": {
          "outputs_hidden": false,
          "source_hidden": false
        },
        "nteract": {
          "transient": {
            "deleting": false
          }
        }
      },
      "outputs": [],
      "source": [
        "best_child_run_id = mlflow_parent_run.data.tags['automl_best_child_run_id']\n",
        "best_run = mlflow_client.get_run(best_child_run_id)"
      ]
    },
    {
      "cell_type": "markdown",
      "metadata": {
        "nteract": {
          "transient": {
            "deleting": false
          }
        }
      },
      "source": [
        "**id for create the endpoint and model**"
      ]
    },
    {
      "cell_type": "code",
      "execution_count": 8,
      "metadata": {
        "gather": {
          "logged": 1701269789799
        },
        "jupyter": {
          "outputs_hidden": false,
          "source_hidden": false
        },
        "nteract": {
          "transient": {
            "deleting": false
          }
        }
      },
      "outputs": [
        {
          "data": {
            "text/plain": [
              "'sweet_bell_qc73gvv9m6_HD_3'"
            ]
          },
          "execution_count": 8,
          "metadata": {},
          "output_type": "execute_result"
        }
      ],
      "source": [
        "best_run.info.run_id"
      ]
    },
    {
      "cell_type": "markdown",
      "metadata": {
        "nteract": {
          "transient": {
            "deleting": false
          }
        }
      },
      "source": [
        "**Metrics best Model**"
      ]
    },
    {
      "cell_type": "code",
      "execution_count": 9,
      "metadata": {
        "gather": {
          "logged": 1701269795821
        },
        "jupyter": {
          "outputs_hidden": false,
          "source_hidden": false
        },
        "nteract": {
          "transient": {
            "deleting": false
          }
        }
      },
      "outputs": [
        {
          "data": {
            "text/plain": [
              "{'accuracy_train': 0.98961,\n",
              " 'log_loss_train': 0.02697,\n",
              " 'log_loss': 0.00255,\n",
              " 'AUC_macro': 1.0,\n",
              " 'AUC_micro': 1.0,\n",
              " 'f1_score_micro': 1.0,\n",
              " 'average_precision_score_micro': 1.0,\n",
              " 'AUC_weighted': 1.0,\n",
              " 'average_precision_score_weighted': 1.0,\n",
              " 'recall_score_micro': 1.0,\n",
              " 'accuracy': 1.0,\n",
              " 'average_precision_score_macro': 1.0,\n",
              " 'precision_score_macro': 1.0,\n",
              " 'recall_score_weighted': 1.0,\n",
              " 'f1_score_macro': 1.0,\n",
              " 'f1_score_weighted': 1.0,\n",
              " 'recall_score_macro': 1.0,\n",
              " 'precision_score_micro': 1.0,\n",
              " 'precision_score_weighted': 1.0}"
            ]
          },
          "execution_count": 9,
          "metadata": {},
          "output_type": "execute_result"
        }
      ],
      "source": [
        "best_run.data.metrics"
      ]
    },
    {
      "cell_type": "markdown",
      "metadata": {
        "nteract": {
          "transient": {
            "deleting": false
          }
        }
      },
      "source": [
        "**descargar el modelo un folder local**"
      ]
    },
    {
      "cell_type": "code",
      "execution_count": 10,
      "metadata": {
        "gather": {
          "logged": 1701269871062
        },
        "jupyter": {
          "outputs_hidden": false,
          "source_hidden": false
        },
        "nteract": {
          "transient": {
            "deleting": false
          }
        }
      },
      "outputs": [],
      "source": [
        "\n",
        "import os\n",
        "\n",
        "local_dir = \"./artifact_downloads\"\n",
        "if not os.path.exists(local_dir):\n",
        "    os.mkdir(local_dir)"
      ]
    },
    {
      "cell_type": "code",
      "execution_count": 11,
      "metadata": {
        "gather": {
          "logged": 1701269885759
        },
        "jupyter": {
          "outputs_hidden": false,
          "source_hidden": false
        },
        "nteract": {
          "transient": {
            "deleting": false
          }
        }
      },
      "outputs": [
        {
          "data": {
            "application/vnd.jupyter.widget-view+json": {
              "model_id": "87dce63600754972a421bac8b6779122",
              "version_major": 2,
              "version_minor": 0
            },
            "text/plain": [
              "Downloading artifacts:   0%|          | 0/13 [00:00<?, ?it/s]"
            ]
          },
          "metadata": {},
          "output_type": "display_data"
        },
        {
          "name": "stderr",
          "output_type": "stream",
          "text": [
            "2023/11/29 14:57:57 INFO mlflow.store.artifact.artifact_repo: The progress bar can be disabled by setting the environment variable MLFLOW_ENABLE_ARTIFACTS_PROGRESS_BAR to false\n"
          ]
        },
        {
          "data": {
            "text/plain": [
              "'/mnt/batch/tasks/shared/LS_root/mounts/clusters/testnotebookrcf/code/Users/ron.todo.poderoso/Proyecto/artifact_downloads/outputs'"
            ]
          },
          "execution_count": 11,
          "metadata": {},
          "output_type": "execute_result"
        }
      ],
      "source": [
        "local_path = mlflow_client.download_artifacts(best_run.info.run_id, \"outputs\", local_dir)\n",
        "local_path"
      ]
    },
    {
      "cell_type": "markdown",
      "metadata": {
        "nteract": {
          "transient": {
            "deleting": false
          }
        }
      },
      "source": [
        "**TODO get metrics from the other algorith**"
      ]
    }
  ],
  "metadata": {
    "kernel_info": {
      "name": "python38-azureml"
    },
    "kernelspec": {
      "display_name": "Python 3.8 - AzureML",
      "language": "python",
      "name": "python38-azureml"
    },
    "language_info": {
      "codemirror_mode": {
        "name": "ipython",
        "version": 3
      },
      "file_extension": ".py",
      "mimetype": "text/x-python",
      "name": "python",
      "nbconvert_exporter": "python",
      "pygments_lexer": "ipython3",
      "version": "3.8.5"
    },
    "microsoft": {
      "host": {
        "AzureML": {
          "notebookHasBeenCompleted": true
        }
      },
      "ms_spell_check": {
        "ms_spell_check_language": "en"
      }
    },
    "nteract": {
      "version": "nteract-front-end@1.0.0"
    }
  },
  "nbformat": 4,
  "nbformat_minor": 2
}
