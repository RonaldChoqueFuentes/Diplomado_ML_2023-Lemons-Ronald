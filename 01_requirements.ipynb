{
  "cells": [
    {
      "cell_type": "code",
      "source": [
        "!pip install azure-ai-ml\n",
        "!pip install jsonlines\n",
        "!pip install azure-identity\n",
        "!pip install azureml-mlfow\n",
        "!pip install mlflow"
      ],
      "outputs": [
        {
          "output_type": "stream",
          "name": "stdout",
          "text": "Requirement already satisfied: mlflow in /anaconda/envs/azureml_py38/lib/python3.8/site-packages (2.8.1)\nRequirement already satisfied: gitpython<4,>=2.1.0 in /anaconda/envs/azureml_py38/lib/python3.8/site-packages (from mlflow) (3.1.31)\nRequirement already satisfied: importlib-metadata!=4.7.0,<7,>=3.7.0 in /anaconda/envs/azureml_py38/lib/python3.8/site-packages (from mlflow) (6.6.0)\nRequirement already satisfied: click<9,>=7.0 in /anaconda/envs/azureml_py38/lib/python3.8/site-packages (from mlflow) (8.1.3)\nRequirement already satisfied: querystring-parser<2 in /anaconda/envs/azureml_py38/lib/python3.8/site-packages (from mlflow) (1.2.4)\nRequirement already satisfied: databricks-cli<1,>=0.8.7 in /anaconda/envs/azureml_py38/lib/python3.8/site-packages (from mlflow) (0.17.7)\nRequirement already satisfied: docker<7,>=4.0.0 in /anaconda/envs/azureml_py38/lib/python3.8/site-packages (from mlflow) (6.1.2)\nRequirement already satisfied: sqlparse<1,>=0.4.0 in /anaconda/envs/azureml_py38/lib/python3.8/site-packages (from mlflow) (0.4.4)\nRequirement already satisfied: scikit-learn<2 in /anaconda/envs/azureml_py38/lib/python3.8/site-packages (from mlflow) (0.22.1)\nRequirement already satisfied: pyarrow<15,>=4.0.0 in /anaconda/envs/azureml_py38/lib/python3.8/site-packages (from mlflow) (9.0.0)\nRequirement already satisfied: sqlalchemy<3,>=1.4.0 in /anaconda/envs/azureml_py38/lib/python3.8/site-packages (from mlflow) (2.0.23)\nRequirement already satisfied: entrypoints<1 in /anaconda/envs/azureml_py38/lib/python3.8/site-packages (from mlflow) (0.4)\nRequirement already satisfied: Jinja2<4,>=2.11; platform_system != \"Windows\" in /anaconda/envs/azureml_py38/lib/python3.8/site-packages (from mlflow) (2.11.2)\nRequirement already satisfied: markdown<4,>=3.3 in /anaconda/envs/azureml_py38/lib/python3.8/site-packages (from mlflow) (3.4.3)\nRequirement already satisfied: scipy<2 in /anaconda/envs/azureml_py38/lib/python3.8/site-packages (from mlflow) (1.5.3)\nRequirement already satisfied: requests<3,>=2.17.3 in /anaconda/envs/azureml_py38/lib/python3.8/site-packages (from mlflow) (2.31.0)\nRequirement already satisfied: Flask<4 in /anaconda/envs/azureml_py38/lib/python3.8/site-packages (from mlflow) (2.3.2)\nRequirement already satisfied: pytz<2024 in /anaconda/envs/azureml_py38/lib/python3.8/site-packages (from mlflow) (2022.5)\nRequirement already satisfied: pandas<3 in /anaconda/envs/azureml_py38/lib/python3.8/site-packages (from mlflow) (1.1.5)\nRequirement already satisfied: numpy<2 in /anaconda/envs/azureml_py38/lib/python3.8/site-packages (from mlflow) (1.21.6)\nRequirement already satisfied: packaging<24 in /anaconda/envs/azureml_py38/lib/python3.8/site-packages (from mlflow) (23.0)\nRequirement already satisfied: gunicorn<22; platform_system != \"Windows\" in /anaconda/envs/azureml_py38/lib/python3.8/site-packages (from mlflow) (20.1.0)\nRequirement already satisfied: alembic!=1.10.0,<2 in /anaconda/envs/azureml_py38/lib/python3.8/site-packages (from mlflow) (1.12.1)\nRequirement already satisfied: matplotlib<4 in /anaconda/envs/azureml_py38/lib/python3.8/site-packages (from mlflow) (3.2.1)\nRequirement already satisfied: pyyaml<7,>=5.1 in /anaconda/envs/azureml_py38/lib/python3.8/site-packages (from mlflow) (6.0)\nRequirement already satisfied: protobuf<5,>=3.12.0 in /anaconda/envs/azureml_py38/lib/python3.8/site-packages (from mlflow) (3.20.3)\nRequirement already satisfied: cloudpickle<3 in /anaconda/envs/azureml_py38/lib/python3.8/site-packages (from mlflow) (1.6.0)\nRequirement already satisfied: gitdb<5,>=4.0.1 in /anaconda/envs/azureml_py38/lib/python3.8/site-packages (from gitpython<4,>=2.1.0->mlflow) (4.0.10)\nRequirement already satisfied: zipp>=0.5 in /anaconda/envs/azureml_py38/lib/python3.8/site-packages (from importlib-metadata!=4.7.0,<7,>=3.7.0->mlflow) (3.12.0)\nRequirement already satisfied: six in /anaconda/envs/azureml_py38/lib/python3.8/site-packages (from querystring-parser<2->mlflow) (1.16.0)\nRequirement already satisfied: tabulate>=0.7.7 in /anaconda/envs/azureml_py38/lib/python3.8/site-packages (from databricks-cli<1,>=0.8.7->mlflow) (0.9.0)\nRequirement already satisfied: oauthlib>=3.1.0 in /anaconda/envs/azureml_py38/lib/python3.8/site-packages (from databricks-cli<1,>=0.8.7->mlflow) (3.2.2)\nRequirement already satisfied: pyjwt>=1.7.0 in /anaconda/envs/azureml_py38/lib/python3.8/site-packages (from databricks-cli<1,>=0.8.7->mlflow) (2.4.0)\nRequirement already satisfied: urllib3<2.0.0,>=1.26.7 in /anaconda/envs/azureml_py38/lib/python3.8/site-packages (from databricks-cli<1,>=0.8.7->mlflow) (1.26.16)\nRequirement already satisfied: websocket-client>=0.32.0 in /anaconda/envs/azureml_py38/lib/python3.8/site-packages (from docker<7,>=4.0.0->mlflow) (1.3.3)\nRequirement already satisfied: joblib>=0.11 in /anaconda/envs/azureml_py38/lib/python3.8/site-packages (from scikit-learn<2->mlflow) (1.2.0)\nRequirement already satisfied: greenlet!=0.4.17; platform_machine == \"aarch64\" or (platform_machine == \"ppc64le\" or (platform_machine == \"x86_64\" or (platform_machine == \"amd64\" or (platform_machine == \"AMD64\" or (platform_machine == \"win32\" or platform_machine == \"WIN32\"))))) in /anaconda/envs/azureml_py38/lib/python3.8/site-packages (from sqlalchemy<3,>=1.4.0->mlflow) (2.0.2)\nRequirement already satisfied: typing-extensions>=4.2.0 in /anaconda/envs/azureml_py38/lib/python3.8/site-packages (from sqlalchemy<3,>=1.4.0->mlflow) (4.6.0)\nRequirement already satisfied: MarkupSafe>=0.23 in /anaconda/envs/azureml_py38/lib/python3.8/site-packages (from Jinja2<4,>=2.11; platform_system != \"Windows\"->mlflow) (2.0.1)\nRequirement already satisfied: charset-normalizer<4,>=2 in /anaconda/envs/azureml_py38/lib/python3.8/site-packages (from requests<3,>=2.17.3->mlflow) (3.1.0)\nRequirement already satisfied: idna<4,>=2.5 in /anaconda/envs/azureml_py38/lib/python3.8/site-packages (from requests<3,>=2.17.3->mlflow) (3.4)\nRequirement already satisfied: certifi>=2017.4.17 in /anaconda/envs/azureml_py38/lib/python3.8/site-packages (from requests<3,>=2.17.3->mlflow) (2022.9.24)\nRequirement already satisfied: blinker>=1.6.2 in /anaconda/envs/azureml_py38/lib/python3.8/site-packages (from Flask<4->mlflow) (1.6.2)\nRequirement already satisfied: itsdangerous>=2.1.2 in /anaconda/envs/azureml_py38/lib/python3.8/site-packages (from Flask<4->mlflow) (2.1.2)\nRequirement already satisfied: Werkzeug>=2.3.3 in /anaconda/envs/azureml_py38/lib/python3.8/site-packages (from Flask<4->mlflow) (2.3.4)\nRequirement already satisfied: python-dateutil>=2.7.3 in /anaconda/envs/azureml_py38/lib/python3.8/site-packages (from pandas<3->mlflow) (2.8.2)\nRequirement already satisfied: setuptools>=3.0 in /anaconda/envs/azureml_py38/lib/python3.8/site-packages (from gunicorn<22; platform_system != \"Windows\"->mlflow) (65.6.3)\nRequirement already satisfied: Mako in /anaconda/envs/azureml_py38/lib/python3.8/site-packages (from alembic!=1.10.0,<2->mlflow) (1.3.0)\nRequirement already satisfied: importlib-resources; python_version < \"3.9\" in /anaconda/envs/azureml_py38/lib/python3.8/site-packages (from alembic!=1.10.0,<2->mlflow) (5.12.0)\nRequirement already satisfied: kiwisolver>=1.0.1 in /anaconda/envs/azureml_py38/lib/python3.8/site-packages (from matplotlib<4->mlflow) (1.4.4)\nRequirement already satisfied: pyparsing!=2.0.4,!=2.1.2,!=2.1.6,>=2.0.1 in /anaconda/envs/azureml_py38/lib/python3.8/site-packages (from matplotlib<4->mlflow) (3.1.0)\nRequirement already satisfied: cycler>=0.10 in /anaconda/envs/azureml_py38/lib/python3.8/site-packages (from matplotlib<4->mlflow) (0.11.0)\nRequirement already satisfied: smmap<6,>=3.0.1 in /anaconda/envs/azureml_py38/lib/python3.8/site-packages (from gitdb<5,>=4.0.1->gitpython<4,>=2.1.0->mlflow) (5.0.0)\n"
        }
      ],
      "execution_count": 2,
      "metadata": {}
    }
  ],
  "metadata": {
    "kernelspec": {
      "name": "python38-azureml",
      "language": "python",
      "display_name": "Python 3.8 - AzureML"
    },
    "language_info": {
      "name": "python",
      "version": "3.8.5",
      "mimetype": "text/x-python",
      "codemirror_mode": {
        "name": "ipython",
        "version": 3
      },
      "pygments_lexer": "ipython3",
      "nbconvert_exporter": "python",
      "file_extension": ".py"
    },
    "microsoft": {
      "ms_spell_check": {
        "ms_spell_check_language": "en"
      }
    },
    "kernel_info": {
      "name": "python38-azureml"
    },
    "nteract": {
      "version": "nteract-front-end@1.0.0"
    }
  },
  "nbformat": 4,
  "nbformat_minor": 2
}