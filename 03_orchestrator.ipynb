{
  "cells": [
    {
      "cell_type": "code",
      "source": [
        "import os\n",
        "import urllib\n",
        "from IPython.display import Image\n",
        "from zipfile import ZipFile\n",
        "from azure.ai.ml.entities import AmlCompute\n",
        "from azure.core.exceptions import ResourceNotFoundError\n",
        "\n",
        "from azure.ai.ml.constants import AssetTypes, InputOutputModes\n",
        "from azure.ai.ml import Input\n",
        "\n",
        "from azure.ai.ml import MLClient\n",
        "from azure.ai.ml import automl\n",
        "from azure.identity import DefaultAzureCredential\n",
        "\n",
        "from azure.ai.ml.entities import Data\n",
        "from azure.ai.ml.constants import AssetTypes, InputOutputModes\n",
        "from azure.ai.ml import Input\n",
        "\n",
        "from PIL import Image\n",
        "import jsonlines\n",
        "\n",
        "import json\n",
        "\n",
        "def get_azure_credential(subscription_id, resource_group, workspace):\n",
        "    credential = DefaultAzureCredential()\n",
        "    ml_client = MLClient.from_config(credential)\n",
        "    ml_client =  MLClient(credential, subscription_id, resource_group, workspace)\n",
        "    return ml_client\n",
        "\n",
        "ml_client = get_azure_credential(\"46169265-43c5-42f4-b171-b27bdd8e5afa\",\"rchoque\",\"ws_ml_rcf\")"
      ],
      "outputs": [
        {
          "output_type": "stream",
          "name": "stderr",
          "text": "Found the config file in: /config.json\n"
        }
      ],
      "execution_count": 2,
      "metadata": {
        "gather": {
          "logged": 1701267808879
        }
      }
    },
    {
      "cell_type": "code",
      "source": [
        "dataset_parent_dir = \"./data\"\n",
        "dataset_name = \"lemon_Dataset\"\n",
        "dataset_dir = os.path.join(dataset_parent_dir, dataset_name)\n",
        "data_file = os.path.join(dataset_parent_dir, f\"{dataset_name}.zip\")"
      ],
      "outputs": [],
      "execution_count": 3,
      "metadata": {
        "jupyter": {
          "source_hidden": false,
          "outputs_hidden": false
        },
        "nteract": {
          "transient": {
            "deleting": false
          }
        },
        "gather": {
          "logged": 1701267813017
        }
      }
    },
    {
      "cell_type": "code",
      "source": [
        "\n",
        "\n",
        "training_mltable_path = os.path.join(dataset_parent_dir, \"training-mltable-folder\")\n",
        "validation_mltable_path = os.path.join(dataset_parent_dir, \"validation-mltable-folder\")\n",
        "\n"
      ],
      "outputs": [],
      "execution_count": 4,
      "metadata": {
        "jupyter": {
          "source_hidden": false,
          "outputs_hidden": false
        },
        "nteract": {
          "transient": {
            "deleting": false
          }
        },
        "gather": {
          "logged": 1701267815658
        }
      }
    },
    {
      "cell_type": "code",
      "source": [
        "\n",
        "\n",
        "my_training_data_input = Input(type=AssetTypes.MLTABLE,path=training_mltable_path)\n",
        "my_validation_data_input = Input(type=AssetTypes.MLTABLE,path=validation_mltable_path)\n"
      ],
      "outputs": [],
      "execution_count": 5,
      "metadata": {
        "jupyter": {
          "source_hidden": false,
          "outputs_hidden": false
        },
        "nteract": {
          "transient": {
            "deleting": false
          }
        },
        "gather": {
          "logged": 1701267818595
        }
      }
    },
    {
      "cell_type": "markdown",
      "source": [
        "\n",
        "**\n",
        "Sent to Training**\n"
      ],
      "metadata": {
        "nteract": {
          "transient": {
            "deleting": false
          }
        }
      }
    },
    {
      "cell_type": "code",
      "source": [
        "\n",
        "\n",
        "compute_name = \"gpl-cluster-nc6sv3\"\n",
        "def create_cluster_computer(compute_name):\n",
        "    try:\n",
        "        _ = ml_client.compute.get(compute_name)\n",
        "        print(\"Found Existing compute target\")\n",
        "    except:\n",
        "        print(\"Creating a new Computer target\")\n",
        "        conpute_config = AmlCompute(\n",
        "            name=compute_name,\n",
        "            type=\"amlcompute\",\n",
        "            size=\"Standard_NC6s_v3\",\n",
        "            idle_time_before_scale_down=120,\n",
        "            min_instances=0,\n",
        "            max_instances=4\n",
        "        )\n",
        "        ml_client.begin_create_or_update(conpute_config).result()\n",
        "        print(\"Done\")\n",
        "\n",
        "create_cluster_computer(compute_name)\n",
        "\n"
      ],
      "outputs": [
        {
          "output_type": "stream",
          "name": "stdout",
          "text": "Found Existing compute target\n"
        }
      ],
      "execution_count": 6,
      "metadata": {
        "jupyter": {
          "source_hidden": false,
          "outputs_hidden": false
        },
        "nteract": {
          "transient": {
            "deleting": false
          }
        },
        "gather": {
          "logged": 1701267822135
        }
      }
    },
    {
      "cell_type": "markdown",
      "source": [
        "\n",
        "\n",
        "**Create image classification job**\n"
      ],
      "metadata": {
        "nteract": {
          "transient": {
            "deleting": false
          }
        }
      }
    },
    {
      "cell_type": "code",
      "source": [
        "\n",
        "\n",
        "exp_name = \"dl-lemon-objects\"\n",
        "\n",
        "image_classfication_job = automl.image_classification(\n",
        "    compute=compute_name,\n",
        "    experiment_name=exp_name,\n",
        "    training_data=my_training_data_input,\n",
        "    validation_data=my_validation_data_input,\n",
        "    target_column_name='label',\n",
        "    primary_metric=\"accuracy\",\n",
        "    tags={\"exp-name\":\"Job for image classification with lemon objetcs\"}\n",
        ")\n",
        "\n",
        "image_classfication_job.set_limits(max_trials=4, max_concurrent_trials=2)\n",
        "\n",
        "#returned_job = ml_client.jobs.create_or_update(image_classfication_job)\n"
      ],
      "outputs": [],
      "execution_count": 7,
      "metadata": {
        "jupyter": {
          "source_hidden": false,
          "outputs_hidden": false
        },
        "nteract": {
          "transient": {
            "deleting": false
          }
        },
        "gather": {
          "logged": 1701267828541
        }
      }
    },
    {
      "cell_type": "markdown",
      "source": [
        "\n",
        "\n",
        "tuning de hiperparámetros\n"
      ],
      "metadata": {
        "nteract": {
          "transient": {
            "deleting": false
          }
        }
      }
    },
    {
      "cell_type": "code",
      "source": [
        "\n",
        "\n",
        "from azure.ai.ml.automl import SearchSpace\n",
        "from azure.ai.ml.sweep import (Choice,Uniform,BanditPolicy,)\n",
        "\n"
      ],
      "outputs": [],
      "execution_count": 8,
      "metadata": {
        "jupyter": {
          "source_hidden": false,
          "outputs_hidden": false
        },
        "nteract": {
          "transient": {
            "deleting": false
          }
        },
        "gather": {
          "logged": 1701267833502
        }
      }
    },
    {
      "cell_type": "code",
      "source": [
        "# eleccion modelos a revisar\n",
        "tun_1 = SearchSpace( model_name=Choice([\"vitb16r224\", \"yolov5\"]),learning_rate=Uniform(0.001, 0.01),number_of_epochs=Choice([15, 30]), )\n",
        "tun_2 = SearchSpace( model_name=Choice([\"seresnext\", \"resnet50\"]),learning_rate=Uniform(0.001, 0.01),layers_to_freeze=Choice([0, 2]),)\n",
        "tunning = [tun_1, tun_2]\n",
        "\n",
        "image_classfication_job.extend_search_space(tunning)"
      ],
      "outputs": [],
      "execution_count": 9,
      "metadata": {
        "jupyter": {
          "source_hidden": false,
          "outputs_hidden": false
        },
        "nteract": {
          "transient": {
            "deleting": false
          }
        },
        "gather": {
          "logged": 1701267838873
        }
      }
    },
    {
      "cell_type": "code",
      "source": [
        "\n",
        "\n",
        "# toma de muestras random\n",
        "# politicas de terminacion\n",
        "limit_job = BanditPolicy(evaluation_interval=2, slack_factor=0.2, delay_evaluation=6)\n",
        "image_classfication_job.set_sweep(sampling_algorithm=\"Random\", early_termination=limit_job,)\n",
        "\n"
      ],
      "outputs": [],
      "execution_count": 10,
      "metadata": {
        "jupyter": {
          "source_hidden": false,
          "outputs_hidden": false
        },
        "nteract": {
          "transient": {
            "deleting": false
          }
        },
        "gather": {
          "logged": 1701267847751
        }
      }
    },
    {
      "cell_type": "code",
      "source": [
        "returned_job = ml_client.jobs.create_or_update(image_classfication_job)"
      ],
      "outputs": [],
      "execution_count": 11,
      "metadata": {
        "jupyter": {
          "source_hidden": false,
          "outputs_hidden": false
        },
        "nteract": {
          "transient": {
            "deleting": false
          }
        },
        "gather": {
          "logged": 1701267854743
        }
      }
    },
    {
      "cell_type": "code",
      "source": [
        "returned_job.name"
      ],
      "outputs": [
        {
          "output_type": "execute_result",
          "execution_count": 12,
          "data": {
            "text/plain": "'sweet_bell_qc73gvv9m6'"
          },
          "metadata": {}
        }
      ],
      "execution_count": 12,
      "metadata": {
        "jupyter": {
          "source_hidden": false,
          "outputs_hidden": false
        },
        "nteract": {
          "transient": {
            "deleting": false
          }
        },
        "gather": {
          "logged": 1701267897693
        }
      }
    },
    {
      "cell_type": "code",
      "source": [
        "import mlflow\n",
        "\n",
        "MLFLOW_TRACKING_URI = ml_client.workspaces.get(name=ml_client.workspace_name).mlflow_tracking_uri\n",
        "print(MLFLOW_TRACKING_URI)"
      ],
      "outputs": [
        {
          "output_type": "stream",
          "name": "stdout",
          "text": "azureml://westus.api.azureml.ms/mlflow/v1.0/subscriptions/46169265-43c5-42f4-b171-b27bdd8e5afa/resourceGroups/rchoque/providers/Microsoft.MachineLearningServices/workspaces/ws_ml_rcf\n"
        }
      ],
      "execution_count": 9,
      "metadata": {
        "jupyter": {
          "source_hidden": false,
          "outputs_hidden": false
        },
        "nteract": {
          "transient": {
            "deleting": false
          }
        },
        "gather": {
          "logged": 1701227194127
        }
      }
    },
    {
      "cell_type": "code",
      "source": [],
      "outputs": [
        {
          "output_type": "execute_result",
          "execution_count": 10,
          "data": {
            "text/plain": "'wheat_ship_yr2b9njcm6'"
          },
          "metadata": {}
        }
      ],
      "execution_count": 10,
      "metadata": {
        "jupyter": {
          "source_hidden": false,
          "outputs_hidden": false
        },
        "nteract": {
          "transient": {
            "deleting": false
          }
        },
        "gather": {
          "logged": 1701227234190
        }
      }
    }
  ],
  "metadata": {
    "kernelspec": {
      "name": "python38-azureml",
      "language": "python",
      "display_name": "Python 3.8 - AzureML"
    },
    "language_info": {
      "name": "python",
      "version": "3.8.5",
      "mimetype": "text/x-python",
      "codemirror_mode": {
        "name": "ipython",
        "version": 3
      },
      "pygments_lexer": "ipython3",
      "nbconvert_exporter": "python",
      "file_extension": ".py"
    },
    "microsoft": {
      "ms_spell_check": {
        "ms_spell_check_language": "en"
      },
      "host": {
        "AzureML": {
          "notebookHasBeenCompleted": true
        }
      }
    },
    "kernel_info": {
      "name": "python38-azureml"
    },
    "nteract": {
      "version": "nteract-front-end@1.0.0"
    }
  },
  "nbformat": 4,
  "nbformat_minor": 2
}